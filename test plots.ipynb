{
 "cells": [
  {
   "cell_type": "code",
   "execution_count": 16,
   "id": "premium-sugar",
   "metadata": {},
   "outputs": [],
   "source": [
    "import pandas as pd\n",
    "f = 'final_prs_ptsd_o.csv'\n",
    "df = pd.read_csv(f)"
   ]
  },
  {
   "cell_type": "code",
   "execution_count": 17,
   "id": "level-peripheral",
   "metadata": {},
   "outputs": [
    {
     "data": {
      "text/html": [
       "<div>\n",
       "<style scoped>\n",
       "    .dataframe tbody tr th:only-of-type {\n",
       "        vertical-align: middle;\n",
       "    }\n",
       "\n",
       "    .dataframe tbody tr th {\n",
       "        vertical-align: top;\n",
       "    }\n",
       "\n",
       "    .dataframe thead th {\n",
       "        text-align: right;\n",
       "    }\n",
       "</style>\n",
       "<table border=\"1\" class=\"dataframe\">\n",
       "  <thead>\n",
       "    <tr style=\"text-align: right;\">\n",
       "      <th></th>\n",
       "      <th>Unnamed: 0</th>\n",
       "      <th>Individuals</th>\n",
       "      <th>Scores</th>\n",
       "    </tr>\n",
       "  </thead>\n",
       "  <tbody>\n",
       "    <tr>\n",
       "      <th>0</th>\n",
       "      <td>0</td>\n",
       "      <td>HG03754</td>\n",
       "      <td>5.978388</td>\n",
       "    </tr>\n",
       "    <tr>\n",
       "      <th>1</th>\n",
       "      <td>1</td>\n",
       "      <td>NA11932</td>\n",
       "      <td>5.964156</td>\n",
       "    </tr>\n",
       "    <tr>\n",
       "      <th>2</th>\n",
       "      <td>2</td>\n",
       "      <td>OS_0</td>\n",
       "      <td>5.978388</td>\n",
       "    </tr>\n",
       "    <tr>\n",
       "      <th>3</th>\n",
       "      <td>3</td>\n",
       "      <td>OS_1</td>\n",
       "      <td>5.977626</td>\n",
       "    </tr>\n",
       "    <tr>\n",
       "      <th>4</th>\n",
       "      <td>4</td>\n",
       "      <td>OS_2</td>\n",
       "      <td>4.959646</td>\n",
       "    </tr>\n",
       "    <tr>\n",
       "      <th>...</th>\n",
       "      <td>...</td>\n",
       "      <td>...</td>\n",
       "      <td>...</td>\n",
       "    </tr>\n",
       "    <tr>\n",
       "      <th>497</th>\n",
       "      <td>497</td>\n",
       "      <td>OS_495</td>\n",
       "      <td>5.968527</td>\n",
       "    </tr>\n",
       "    <tr>\n",
       "      <th>498</th>\n",
       "      <td>498</td>\n",
       "      <td>OS_496</td>\n",
       "      <td>5.978388</td>\n",
       "    </tr>\n",
       "    <tr>\n",
       "      <th>499</th>\n",
       "      <td>499</td>\n",
       "      <td>OS_497</td>\n",
       "      <td>5.955057</td>\n",
       "    </tr>\n",
       "    <tr>\n",
       "      <th>500</th>\n",
       "      <td>500</td>\n",
       "      <td>OS_498</td>\n",
       "      <td>6.959567</td>\n",
       "    </tr>\n",
       "    <tr>\n",
       "      <th>501</th>\n",
       "      <td>501</td>\n",
       "      <td>OS_499</td>\n",
       "      <td>7.950607</td>\n",
       "    </tr>\n",
       "  </tbody>\n",
       "</table>\n",
       "<p>502 rows × 3 columns</p>\n",
       "</div>"
      ],
      "text/plain": [
       "     Unnamed: 0 Individuals    Scores\n",
       "0             0     HG03754  5.978388\n",
       "1             1     NA11932  5.964156\n",
       "2             2        OS_0  5.978388\n",
       "3             3        OS_1  5.977626\n",
       "4             4        OS_2  4.959646\n",
       "..          ...         ...       ...\n",
       "497         497      OS_495  5.968527\n",
       "498         498      OS_496  5.978388\n",
       "499         499      OS_497  5.955057\n",
       "500         500      OS_498  6.959567\n",
       "501         501      OS_499  7.950607\n",
       "\n",
       "[502 rows x 3 columns]"
      ]
     },
     "execution_count": 17,
     "metadata": {},
     "output_type": "execute_result"
    }
   ],
   "source": [
    "df"
   ]
  },
  {
   "cell_type": "code",
   "execution_count": 28,
   "id": "excited-airline",
   "metadata": {},
   "outputs": [
    {
     "name": "stdout",
     "output_type": "stream",
     "text": [
      "5.978388000000001\n",
      "5.964156\n"
     ]
    },
    {
     "data": {
      "text/plain": [
       "(array([  8.,  45.,   0., 123.,  77.,  83., 110.,   0.,  52.,   2.]),\n",
       " array([2.987427, 3.584196, 4.180965, 4.777734, 5.374503, 5.971272,\n",
       "        6.568041, 7.16481 , 7.761579, 8.358348, 8.955117]),\n",
       " <BarContainer object of 10 artists>)"
      ]
     },
     "execution_count": 28,
     "metadata": {},
     "output_type": "execute_result"
    },
    {
     "data": {
      "image/png": "[encoded data removed]",
      "text/plain": [
       "<Figure size 432x288 with 1 Axes>"
      ]
     },
     "metadata": {
      "needs_background": "light"
     },
     "output_type": "display_data"
    }
   ],
   "source": [
    "import matplotlib.pyplot as plt\n",
    "print(df['Scores'].values[0])\n",
    "print(df['Scores'].values[1])\n",
    "plt.hist(df['Scores'].values[2:])\n"
   ]
  },
  {
   "cell_type": "code",
   "execution_count": 29,
   "id": "representative-oakland",
   "metadata": {},
   "outputs": [
    {
     "name": "stdout",
     "output_type": "stream",
     "text": [
      "11.29934\n",
      "11.49049\n"
     ]
    },
    {
     "data": {
      "text/plain": [
       "(array([ 13.,  57.,   0., 104.,  67.,  84., 111.,   0.,  51.,  14.]),\n",
       " array([ 8.08834 ,  8.749655,  9.41097 , 10.072285, 10.7336  , 11.394915,\n",
       "        12.05623 , 12.717545, 13.37886 , 14.040175, 14.70149 ]),\n",
       " <BarContainer object of 10 artists>)"
      ]
     },
     "execution_count": 29,
     "metadata": {},
     "output_type": "execute_result"
    },
    {
     "data": {
      "image/png": "[encoded data removed]",
      "text/plain": [
       "<Figure size 432x288 with 1 Axes>"
      ]
     },
     "metadata": {
      "needs_background": "light"
     },
     "output_type": "display_data"
    }
   ],
   "source": [
    "df_scz = pd.read_csv('final_prs_schizophrenia.csv')\n",
    "print(df_scz['Scores'].values[0])\n",
    "print(df_scz['Scores'].values[1])\n",
    "plt.hist(df_scz['Scores'].values[2:])"
   ]
  },
  {
   "cell_type": "code",
   "execution_count": 30,
   "id": "minus-horizon",
   "metadata": {},
   "outputs": [
    {
     "name": "stdout",
     "output_type": "stream",
     "text": [
      "18.87322\n",
      "19.878507\n"
     ]
    },
    {
     "data": {
      "text/plain": [
       "(array([14., 23., 47., 84., 82., 82., 77., 53., 23., 15.]),\n",
       " array([13.881898 , 14.9823898, 16.0828816, 17.1833734, 18.2838652,\n",
       "        19.384357 , 20.4848488, 21.5853406, 22.6858324, 23.7863242,\n",
       "        24.886816 ]),\n",
       " <BarContainer object of 10 artists>)"
      ]
     },
     "execution_count": 30,
     "metadata": {},
     "output_type": "execute_result"
    },
    {
     "data": {
      "image/png": "[encoded data removed]",
      "text/plain": [
       "<Figure size 432x288 with 1 Axes>"
      ]
     },
     "metadata": {
      "needs_background": "light"
     },
     "output_type": "display_data"
    }
   ],
   "source": [
    "df_ptsd = pd.read_csv('final_prs_ptsd_all.csv')\n",
    "print(df_ptsd['Scores'].values[0])\n",
    "print(df_ptsd['Scores'].values[1])\n",
    "plt.hist(df_ptsd['Scores'].values[2:])"
   ]
  },
  {
   "cell_type": "code",
   "execution_count": 52,
   "id": "prescribed-longer",
   "metadata": {},
   "outputs": [
    {
     "name": "stdout",
     "output_type": "stream",
     "text": [
      "low\n",
      "['HG03690', 'NA18877']\n",
      "high\n",
      "['HG00137', 'HG03887']\n",
      "low+high\n",
      "['HG01164']\n",
      "['HG03663']\n",
      "rand\n",
      "['HG03108', 'HG01610']\n"
     ]
    }
   ],
   "source": [
    "df_par_scz = pd.read_csv('final_prs_schizophrenia_parents.csv')\n",
    "# plt.hist(df_par_scz['Scores'].values)\n",
    "import random\n",
    "print('low')\n",
    "print(random.sample(list(df_par_scz.sort_values(by=['Scores'])['Individuals'].values[:626]), 2))\n",
    "print('high')\n",
    "print(random.sample(list(df_par_scz.sort_values(by=['Scores'])['Individuals'].values[-626:]), 2))\n",
    "print('low+high')\n",
    "print(random.sample(list(df_par_scz.sort_values(by=['Scores'])['Individuals'].values[:626]), 1))\n",
    "print(random.sample(list(df_par_scz.sort_values(by=['Scores'])['Individuals'].values[:-626]), 1))\n",
    "print('rand')\n",
    "print(random.sample(list(df_par_scz.sort_values(by=['Scores'])['Individuals'].values), 2))"
   ]
  },
  {
   "cell_type": "code",
   "execution_count": 53,
   "id": "behavioral-first",
   "metadata": {},
   "outputs": [
    {
     "name": "stdout",
     "output_type": "stream",
     "text": [
      "low\n",
      "['HG02947', 'NA19334']\n",
      "high\n",
      "['HG02298', 'NA18530']\n",
      "low+high\n",
      "['HG01326']\n",
      "['HG02974']\n"
     ]
    }
   ],
   "source": [
    "df_par_ptsd = pd.read_csv('final_prs_ptsd_parents.csv')\n",
    "# plt.hist(df_par_ptsd['Scores'].values)\n",
    "print('low')\n",
    "print(random.sample(list(df_par_ptsd.sort_values(by=['Scores'])['Individuals'].values[:626]), 2))\n",
    "print('high')\n",
    "print(random.sample(list(df_par_ptsd.sort_values(by=['Scores'])['Individuals'].values[-626:]), 2))\n",
    "print('low+high')\n",
    "print(random.sample(list(df_par_ptsd.sort_values(by=['Scores'])['Individuals'].values[:626]), 1))\n",
    "print(random.sample(list(df_par_ptsd.sort_values(by=['Scores'])['Individuals'].values[:-626]), 1))\n"
   ]
  },
  {
   "cell_type": "code",
   "execution_count": 54,
   "id": "falling-spray",
   "metadata": {},
   "outputs": [
    {
     "name": "stdout",
     "output_type": "stream",
     "text": [
      "low\n",
      "['HG03311', 'HG03198']\n",
      "high\n",
      "['HG04238', 'HG01254']\n",
      "low+high\n",
      "['NA19351']\n",
      "['HG02733']\n"
     ]
    }
   ],
   "source": [
    "df_par_ptsd2 = pd.read_csv('final_prs_ptsd_all_parents.csv')\n",
    "# plt.hist(df_par_ptsd2['Scores'].values)\n",
    "# df_par_ptsd2.sort_values(by=['Scores'])\n",
    "print('low')\n",
    "print(random.sample(list(df_par_ptsd2.sort_values(by=['Scores'])['Individuals'].values[:626]), 2))\n",
    "print('high')\n",
    "print(random.sample(list(df_par_ptsd2.sort_values(by=['Scores'])['Individuals'].values[-626:]), 2))\n",
    "print('low+high')\n",
    "print(random.sample(list(df_par_ptsd2.sort_values(by=['Scores'])['Individuals'].values[:626]), 1))\n",
    "print(random.sample(list(df_par_ptsd2.sort_values(by=['Scores'])['Individuals'].values[:-626]), 1))"
   ]
  },
  {
   "cell_type": "code",
   "execution_count": 38,
   "id": "focal-devices",
   "metadata": {},
   "outputs": [
    {
     "data": {
      "text/plain": [
       "<AxesSubplot:>"
      ]
     },
     "execution_count": 38,
     "metadata": {},
     "output_type": "execute_result"
    },
    {
     "data": {
      "image/png": "[encoded data removed]",
      "text/plain": [
       "<Figure size 432x288 with 1 Axes>"
      ]
     },
     "metadata": {
      "needs_background": "light"
     },
     "output_type": "display_data"
    }
   ],
   "source": [
    "import seaborn as sb\n",
    "sb.violinplot( data=[df_par_ptsd2['Scores'].values, df_ptsd['Scores'].values])"
   ]
  },
  {
   "cell_type": "code",
   "execution_count": null,
   "id": "potential-tension",
   "metadata": {},
   "outputs": [],
   "source": []
  }
 ],
 "metadata": {
  "kernelspec": {
   "display_name": "Python 3",
   "language": "python",
   "name": "python3"
  },
  "language_info": {
   "codemirror_mode": {
    "name": "ipython",
    "version": 3
   },
   "file_extension": ".py",
   "mimetype": "text/x-python",
   "name": "python",
   "nbconvert_exporter": "python",
   "pygments_lexer": "ipython3",
   "version": "3.8.6"
  }
 },
 "nbformat": 4,
 "nbformat_minor": 5
}
